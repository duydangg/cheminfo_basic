{
 "cells": [
  {
   "cell_type": "code",
   "execution_count": 2,
   "metadata": {},
   "outputs": [],
   "source": [
    "import numpy as np\n",
    "import pandas as pd\n",
    "    "
   ]
  },
  {
   "cell_type": "code",
   "execution_count": 3,
   "metadata": {},
   "outputs": [],
   "source": [
    "directory = '/home/dangnd/project/cheminfo_basic/PredictionofSmallMoleculeLipophilicity/'\n",
    "dfl = pd.read_csv('lipophilicity/Lipophilicity.csv')"
   ]
  },
  {
   "cell_type": "code",
   "execution_count": 4,
   "metadata": {},
   "outputs": [
    {
     "data": {
      "text/plain": [
       "array([ 3.54, -1.18,  3.69, ...,  2.1 ,  2.65,  2.7 ])"
      ]
     },
     "execution_count": 4,
     "metadata": {},
     "output_type": "execute_result"
    }
   ],
   "source": [
    "data = dfl['exp'].values\n",
    "\n",
    "data"
   ]
  },
  {
   "cell_type": "code",
   "execution_count": 5,
   "metadata": {},
   "outputs": [
    {
     "data": {
      "text/plain": [
       "array([0.1, 0.2, 0.3, 0.4, 0.5, 0.6, 0.7, 0.8, 0.9])"
      ]
     },
     "execution_count": 5,
     "metadata": {},
     "output_type": "execute_result"
    }
   ],
   "source": [
    "percentile_start=0.1\n",
    "percentile_step=0.1   \n",
    "percentiles = np.arange(percentile_start, 1, percentile_step)\n",
    "\n",
    "percentiles"
   ]
  },
  {
   "cell_type": "code",
   "execution_count": 6,
   "metadata": {},
   "outputs": [],
   "source": [
    "header = []\n",
    "for p in percentiles:\n",
    "    name = str(int(100.01*p))+'th Percentile'\n",
    "    header.append(name)\n",
    "        \n",
    "header.append('Minimum')\n",
    "header.append('Maximum')\n",
    "header.append('Mean')\n",
    "header.append('Standard Deviation')\n",
    "header.append('Variance')\n",
    "header.append('Standard Error')\n",
    "header.append('# of Points')"
   ]
  },
  {
   "cell_type": "code",
   "execution_count": 7,
   "metadata": {},
   "outputs": [
    {
     "data": {
      "text/plain": [
       "['10th Percentile',\n",
       " '20th Percentile',\n",
       " '30th Percentile',\n",
       " '40th Percentile',\n",
       " '50th Percentile',\n",
       " '60th Percentile',\n",
       " '70th Percentile',\n",
       " '80th Percentile',\n",
       " '90th Percentile',\n",
       " 'Minimum',\n",
       " 'Maximum',\n",
       " 'Mean',\n",
       " 'Standard Deviation',\n",
       " 'Variance',\n",
       " 'Standard Error',\n",
       " '# of Points']"
      ]
     },
     "execution_count": 7,
     "metadata": {},
     "output_type": "execute_result"
    }
   ],
   "source": [
    "header"
   ]
  },
  {
   "cell_type": "code",
   "execution_count": 8,
   "metadata": {},
   "outputs": [
    {
     "data": {
      "text/plain": [
       "[0.52,\n",
       " 1.1780000000000006,\n",
       " 1.64,\n",
       " 2.0,\n",
       " 2.36,\n",
       " 2.67,\n",
       " 2.95,\n",
       " 3.25,\n",
       " 3.6,\n",
       " -1.5,\n",
       " 4.5,\n",
       " 2.1863357142857143,\n",
       " 1.2028604901336188,\n",
       " 1.4468733587244897,\n",
       " 0.01856054031646612,\n",
       " 4200]"
      ]
     },
     "execution_count": 8,
     "metadata": {},
     "output_type": "execute_result"
    }
   ],
   "source": [
    "list_results = list(np.quantile(data, percentiles))\n",
    "list_results.append(np.min(data))\n",
    "list_results.append(np.max(data))\n",
    "list_results.append(np.mean(data))\n",
    "list_results.append(np.std(data))\n",
    "list_results.append(np.var(data))\n",
    "list_results.append(np.std(data)/np.sqrt(len(data)))\n",
    "list_results.append(len(data))\n",
    "\n",
    "list_results"
   ]
  },
  {
   "cell_type": "code",
   "execution_count": 9,
   "metadata": {},
   "outputs": [
    {
     "data": {
      "text/html": [
       "<div>\n",
       "<style scoped>\n",
       "    .dataframe tbody tr th:only-of-type {\n",
       "        vertical-align: middle;\n",
       "    }\n",
       "\n",
       "    .dataframe tbody tr th {\n",
       "        vertical-align: top;\n",
       "    }\n",
       "\n",
       "    .dataframe thead th {\n",
       "        text-align: right;\n",
       "    }\n",
       "</style>\n",
       "<table border=\"1\" class=\"dataframe\">\n",
       "  <thead>\n",
       "    <tr style=\"text-align: right;\">\n",
       "      <th></th>\n",
       "      <th>10th Percentile</th>\n",
       "      <th>20th Percentile</th>\n",
       "      <th>30th Percentile</th>\n",
       "      <th>40th Percentile</th>\n",
       "      <th>50th Percentile</th>\n",
       "      <th>60th Percentile</th>\n",
       "      <th>70th Percentile</th>\n",
       "      <th>80th Percentile</th>\n",
       "      <th>90th Percentile</th>\n",
       "      <th>Minimum</th>\n",
       "      <th>Maximum</th>\n",
       "      <th>Mean</th>\n",
       "      <th>Standard Deviation</th>\n",
       "      <th>Variance</th>\n",
       "      <th>Standard Error</th>\n",
       "      <th># of Points</th>\n",
       "    </tr>\n",
       "  </thead>\n",
       "  <tbody>\n",
       "    <tr>\n",
       "      <td>0</td>\n",
       "      <td>0.52</td>\n",
       "      <td>1.178</td>\n",
       "      <td>1.64</td>\n",
       "      <td>2.0</td>\n",
       "      <td>2.36</td>\n",
       "      <td>2.67</td>\n",
       "      <td>2.95</td>\n",
       "      <td>3.25</td>\n",
       "      <td>3.6</td>\n",
       "      <td>-1.5</td>\n",
       "      <td>4.5</td>\n",
       "      <td>2.186336</td>\n",
       "      <td>1.20286</td>\n",
       "      <td>1.446873</td>\n",
       "      <td>0.018561</td>\n",
       "      <td>4200.0</td>\n",
       "    </tr>\n",
       "  </tbody>\n",
       "</table>\n",
       "</div>"
      ],
      "text/plain": [
       "   10th Percentile  20th Percentile  30th Percentile  40th Percentile  \\\n",
       "0             0.52            1.178             1.64              2.0   \n",
       "\n",
       "   50th Percentile  60th Percentile  70th Percentile  80th Percentile  \\\n",
       "0             2.36             2.67             2.95             3.25   \n",
       "\n",
       "   90th Percentile  Minimum  Maximum      Mean  Standard Deviation  Variance  \\\n",
       "0              3.6     -1.5      4.5  2.186336             1.20286  1.446873   \n",
       "\n",
       "   Standard Error  # of Points  \n",
       "0        0.018561       4200.0  "
      ]
     },
     "execution_count": 9,
     "metadata": {},
     "output_type": "execute_result"
    }
   ],
   "source": [
    "df_results = (pd.DataFrame(data = list_results, index = header)).T\n",
    "\n",
    "df_results"
   ]
  },
  {
   "cell_type": "code",
   "execution_count": null,
   "metadata": {},
   "outputs": [],
   "source": []
  }
 ],
 "metadata": {
  "kernelspec": {
   "display_name": "Python 3",
   "language": "python",
   "name": "python3"
  },
  "language_info": {
   "codemirror_mode": {
    "name": "ipython",
    "version": 3
   },
   "file_extension": ".py",
   "mimetype": "text/x-python",
   "name": "python",
   "nbconvert_exporter": "python",
   "pygments_lexer": "ipython3",
   "version": "3.7.4"
  }
 },
 "nbformat": 4,
 "nbformat_minor": 2
}
